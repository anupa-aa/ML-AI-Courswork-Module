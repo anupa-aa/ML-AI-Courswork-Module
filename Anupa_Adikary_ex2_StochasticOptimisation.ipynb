{
  "nbformat": 4,
  "nbformat_minor": 0,
  "metadata": {
    "colab": {
      "provenance": [],
      "gpuType": "T4",
      "include_colab_link": true
    },
    "kernelspec": {
      "name": "python3",
      "display_name": "Python 3"
    },
    "language_info": {
      "name": "python"
    },
    "accelerator": "GPU"
  },
  "cells": [
    {
      "cell_type": "markdown",
      "metadata": {
        "id": "view-in-github",
        "colab_type": "text"
      },
      "source": [
        "<a href=\"https://colab.research.google.com/github/anupa-aa/ML-AI-Courswork-Module/blob/master/Anupa_Adikary_ex2_StochasticOptimisation.ipynb\" target=\"_parent\"><img src=\"https://colab.research.google.com/assets/colab-badge.svg\" alt=\"Open In Colab\"/></a>"
      ]
    },
    {
      "cell_type": "markdown",
      "source": [
        "**Expectations:** run some stockastic optimisers to fit a linear model on the MNIST data set of hand written digits.\n",
        "\n",
        "\n",
        "**Note we have swapped from using numpy to torch, the syntax is very similar!**"
      ],
      "metadata": {
        "id": "_-O8HVTpkbZm"
      }
    },
    {
      "cell_type": "code",
      "execution_count": null,
      "metadata": {
        "id": "Vqg8SEXq55vV"
      },
      "outputs": [],
      "source": [
        "import torch\n",
        "import torch.nn as nn\n",
        "import torch.nn.functional as F\n",
        "import torch.optim as optim\n",
        "import numpy as np\n",
        "import matplotlib.pyplot as plt\n",
        "from torchvision import models,transforms\n",
        "from torchvision.datasets import MNIST\n",
        "from torch.utils.data.sampler import SubsetRandomSampler"
      ]
    },
    {
      "cell_type": "code",
      "source": [
        "# GENERATE MNIST DATASET - no need to edit\n",
        "def mnist(batch_sz, valid_size=0.2, shuffle=True, random_seed=2000):\n",
        "    num_classes = 10\n",
        "    transform_train = transforms.Compose([\n",
        "                        transforms.ToTensor(),\n",
        "                    ])\n",
        "\n",
        "    transform_valid = transforms.Compose([\n",
        "                        transforms.ToTensor(),\n",
        "                    ])\n",
        "\n",
        "    transform_test = transforms.Compose([\n",
        "                        transforms.ToTensor(),\n",
        "                    ])\n",
        "\n",
        "    # Training dataset\n",
        "    train_data = MNIST(root='./datasets', train=True, download=True, transform=transform_train)\n",
        "    valid_data = MNIST(root='./datasets', train=True, download=True, transform=transform_valid)\n",
        "    num_train = len(train_data)\n",
        "    indices = list(range(num_train))\n",
        "    split = int(np.floor(valid_size * num_train))\n",
        "    if shuffle == True:\n",
        "        np.random.seed(random_seed)\n",
        "        np.random.shuffle(indices)\n",
        "    train_idx, valid_idx = indices[split:], indices[:split]\n",
        "\n",
        "    train_sampler = SubsetRandomSampler(train_idx)\n",
        "    valid_sampler = SubsetRandomSampler(valid_idx)\n",
        "    train_loader = torch.utils.data.DataLoader(train_data, batch_size=batch_sz, sampler=train_sampler,pin_memory=True)\n",
        "    valid_loader = torch.utils.data.DataLoader(valid_data, batch_size=batch_sz, sampler=valid_sampler,pin_memory=True)\n",
        "\n",
        "    # Test dataset\n",
        "    test_data = MNIST(root='./datasets', train=False, download=True, transform=transform_test)\n",
        "    test_loader = torch.utils.data.DataLoader(test_data,\n",
        "                                              batch_size=batch_sz, shuffle=False, pin_memory=True)\n",
        "\n",
        "    return train_loader, valid_loader, test_loader"
      ],
      "metadata": {
        "id": "BDiyOVBF6Ess"
      },
      "execution_count": null,
      "outputs": []
    },
    {
      "cell_type": "code",
      "source": [
        "batch_size = 64 # this is batch size i.e. the number of rows in a batch of data, feel free try other values {32, 64, 128, 256, 512}\n",
        "\n",
        "input_dimension = 1 * 28 * 28 # MNIST images are grey scale images 28 pixels wide and high\n",
        "d = input_dimension # if you prefer a shorter varible name\n",
        "\n",
        "number_of_classes = 10 # number of class of MNIST data set C = {0,1,2,3,4,5,6,7,8,9}\n",
        "\n",
        "train_loader, valid_loader, test_loader=mnist(batch_size) # Create the data loaders these are objects that when looping over present batchs of data\n",
        "\n",
        "# lists to store loss and accuracy values\n",
        "sgd_train_losses, sgd_val_losses, sgd_train_acc, sgd_val_acc = [], [], [], []\n",
        "opt_train_losses, opt_val_losses, opt_train_acc, opt_val_acc = [], [], [], []\n",
        "adam_train_losses, adam_val_losses, adam_train_acc, adam_val_acc = [], [], [], []\n"
      ],
      "metadata": {
        "id": "5AaDsz2E6HsU"
      },
      "execution_count": null,
      "outputs": []
    },
    {
      "cell_type": "code",
      "source": [
        "batch = next(iter(train_loader))\n",
        "batch_content = batch[0]\n",
        "print('dimension of single batch: ',batch_content.size())\n",
        "print('code will convert 28*28 image in a single 784 vector of pixel values on which we will fit a linear model')"
      ],
      "metadata": {
        "id": "LBjoQZbpAEI0",
        "colab": {
          "base_uri": "https://localhost:8080/"
        },
        "outputId": "7dbb2cef-44cc-4ebd-8ddd-ac635e0f3eca"
      },
      "execution_count": null,
      "outputs": [
        {
          "output_type": "stream",
          "name": "stdout",
          "text": [
            "dimension of single batch:  torch.Size([64, 1, 28, 28])\n",
            "code will convert 28*28 image in a single 784 vector of pixel values on which we will fit a linear model\n"
          ]
        }
      ]
    },
    {
      "cell_type": "code",
      "source": [
        "# Visulise some training examples\n",
        "k = 0\n",
        "h = 10\n",
        "f, axs = plt.subplots(1,h)\n",
        "\n",
        "for k in range(h):\n",
        "  img = batch_content[k,:,:,:].squeeze()\n",
        "  axs[k].imshow(img)\n",
        "  axs[k].axis(\"off\")"
      ],
      "metadata": {
        "id": "nrKlapwHLnwd",
        "colab": {
          "base_uri": "https://localhost:8080/",
          "height": 79
        },
        "outputId": "954fee4a-5b04-4365-f5b6-e587cb04db54"
      },
      "execution_count": null,
      "outputs": [
        {
          "output_type": "display_data",
          "data": {
            "text/plain": [
              "<Figure size 640x480 with 10 Axes>"
            ],
            "image/png": "[encoded data removed]"
          },
          "metadata": {}
        }
      ]
    },
    {
      "cell_type": "markdown",
      "source": [
        "**Loss Function** for mnist digits we will use the cross entropy loss:\n",
        "\n",
        "\\begin{align*}\n",
        "\\text{Cross Entropy Loss} : \\frac{1}{N}\\sum_{z=1}^N \\ell_{z}(\\mathbf{y}_{z},\\mathbf{y}_z^*) = - \\frac{1}{N}\\sum_{z=1}^N\\sum_{c \\in C}y^*_{z,c} \\text{log}(y_{z,c}) = - \\frac{1}{N}\\sum_{z=1}^N\\mathbf{y}^*_{z,c} \\text{log}(\\text{softmax}(\\mathbf{x}_z \\mathbf{w}))\n",
        "\\end{align*}\n",
        "\n",
        "where $y^*_z$ is $c_z^{th}$ unit vector corrisponding were $c_z$ is the class of the $z^{th}$ training example. For a concrete example is the class of the first example was 0, $y_0^* = [1,0,0,0,0,0,0,0,0,0]$.\n",
        "\n",
        "\\begin{align*}\n",
        "\\text{softmax}(\\mathbf{x}) = \\frac{\\exp{\\mathbf{x}}}{\\sum_i \\exp{x_i}}\n",
        "\\end{align*}"
      ],
      "metadata": {
        "id": "ldqlOxAC2u5a"
      }
    },
    {
      "cell_type": "code",
      "source": [
        "# By default the data loader gives you the class value as a integer rather than a one hot vector as show above\n",
        "\n",
        "def index_to_one_hot(y, classes=10):\n",
        "  b = len(y) # batchsize\n",
        "  one_hot = torch.zeros((b, classes), device=y.device)\n",
        "  xs = torch.arange(b, device=y.device)\n",
        "  one_hot[xs,y] = 1\n",
        "  return one_hot\n",
        "\n",
        "y = torch.randint(10,(10,))\n",
        "print('y',y)\n",
        "print('y',index_to_one_hot(y))"
      ],
      "metadata": {
        "colab": {
          "base_uri": "https://localhost:8080/"
        },
        "id": "EhPMnbbcO5aK",
        "outputId": "58c17505-0b6a-430d-82b0-2f3d7c095306"
      },
      "execution_count": null,
      "outputs": [
        {
          "output_type": "stream",
          "name": "stdout",
          "text": [
            "y tensor([7, 0, 9, 2, 4, 7, 3, 7, 4, 1])\n",
            "y tensor([[0., 0., 0., 0., 0., 0., 0., 1., 0., 0.],\n",
            "        [1., 0., 0., 0., 0., 0., 0., 0., 0., 0.],\n",
            "        [0., 0., 0., 0., 0., 0., 0., 0., 0., 1.],\n",
            "        [0., 0., 1., 0., 0., 0., 0., 0., 0., 0.],\n",
            "        [0., 0., 0., 0., 1., 0., 0., 0., 0., 0.],\n",
            "        [0., 0., 0., 0., 0., 0., 0., 1., 0., 0.],\n",
            "        [0., 0., 0., 1., 0., 0., 0., 0., 0., 0.],\n",
            "        [0., 0., 0., 0., 0., 0., 0., 1., 0., 0.],\n",
            "        [0., 0., 0., 0., 1., 0., 0., 0., 0., 0.],\n",
            "        [0., 1., 0., 0., 0., 0., 0., 0., 0., 0.]])\n"
          ]
        }
      ]
    },
    {
      "cell_type": "markdown",
      "source": [
        "**Question 1** Complete the CE loss function below:"
      ],
      "metadata": {
        "id": "J61UATmsZJJp"
      }
    },
    {
      "cell_type": "code",
      "source": [
        "# As before please complete the following two functions. Remember here X and y are batches of b examles.\n",
        "\n",
        "def CE_loss(X, ystar, w):\n",
        "  # ----------------------------\n",
        "  N = X.shape[0]\n",
        "\n",
        "  m = X@w\n",
        "\n",
        "  loss = -torch.mean(ystar * torch.log(F.softmax(m,dim=1)))*10\n",
        "\n",
        "  \"\"\"\n",
        "  softmax_probs = torch.softmax(m, dim=1)\n",
        "  y_indices = torch.argmax(ystar, dim=1, keepdim=True)\n",
        "  log_probs = torch.log(softmax_probs.gather(1, y_indices))\n",
        "\n",
        "  loss = -torch.mean(log_probs)\"\"\"\n",
        "\n",
        "\n",
        "  # ---------------------------\n",
        "  return float(loss)"
      ],
      "metadata": {
        "id": "oTqQkRPCMZLE"
      },
      "execution_count": null,
      "outputs": []
    },
    {
      "cell_type": "code",
      "source": [
        "Y = index_to_one_hot(y)\n",
        "X = torch.randn(10,10)\n",
        "\n",
        "print('your fucntion:',float(CE_loss(X,Y,torch.eye(10).float())))\n",
        "print('should match this fucntion:',float(F.cross_entropy(X, y)))"
      ],
      "metadata": {
        "id": "NZILb_wNWSUz",
        "colab": {
          "base_uri": "https://localhost:8080/"
        },
        "outputId": "5b9edfea-6a91-4b76-de1a-38074206f8dd"
      },
      "execution_count": null,
      "outputs": [
        {
          "output_type": "stream",
          "name": "stdout",
          "text": [
            "your fucntion: 2.8927407264709473\n",
            "should match this fucntion: 2.8927407264709473\n"
          ]
        }
      ]
    },
    {
      "cell_type": "markdown",
      "source": [
        "**Question 2** (hard) Derive the gradeint of the CE loss. Write you awnser here in latex:\n",
        "(Hint use the chain rule\n",
        "$\\frac{\\partial \\mathcal{L}}{\\partial \\mathbf{w}} = \\frac{\\partial \\mathcal{L}}{\\partial \\mathbf{a}} \\frac{\\partial \\mathbf{a}}{\\partial \\mathbf{w}}\n",
        "$, try setting $\\mathbf{a} = \\text{softmax}(\\mathbf{x}_z \\mathbf{w})$):\n",
        "\n",
        "\\begin{equation}\n",
        "  \\nabla_\\ell(\\mathbf{w}) =\n",
        "\\end{equation}"
      ],
      "metadata": {
        "id": "PE-PjbJsYeXr"
      }
    },
    {
      "cell_type": "markdown",
      "source": [
        "**Question 3** complete the function to calcululat the gradeint of the CE loss below.\n"
      ],
      "metadata": {
        "id": "pa9NVhR87ZHH"
      }
    },
    {
      "cell_type": "code",
      "source": [
        "def grad_func(X, ystar, w):\n",
        "  n = X.size()[0]\n",
        "  # your code here\n",
        "  # ----------------------------\n",
        "\n",
        "  grad = -1/n * X.T@(ystar - F.softmax(X@w, dim=1))\n",
        "\n",
        "\n",
        "  # ----------------------------\n",
        "  return grad"
      ],
      "metadata": {
        "id": "svSFTEhVYGC8"
      },
      "execution_count": null,
      "outputs": []
    },
    {
      "cell_type": "code",
      "source": [
        "# useful function to calculate accuracy\n",
        "\n",
        "def accuracy(out, targets):\n",
        "    _, pred = torch.max(out, 1)\n",
        "    correct = torch.eq(pred, targets).sum()\n",
        "    acc = torch.mean(torch.eq(pred, targets).float())\n",
        "    return correct, float(100. * acc)"
      ],
      "metadata": {
        "id": "rS6Ny54b1UJD"
      },
      "execution_count": null,
      "outputs": []
    },
    {
      "cell_type": "code",
      "source": [
        "def test(w, valid_loader): # function that evaluates loss on vaildation set\n",
        "    total_loss, total_correct, total_num = 0, 0, 0\n",
        "    for batch in valid_loader:\n",
        "      X,y = batch[0].to(device).view(batch[0].size()[0],input_dimension), batch[1].to(device)\n",
        "      Y = index_to_one_hot(y, classes=10)\n",
        "      loss_train = CE_loss(X, Y, w)\n",
        "      correct, acc = accuracy(X.mm(w), y)\n",
        "      total_correct += correct\n",
        "      total_loss += loss_train*X.size()[0]\n",
        "      total_num += X.size()[0]\n",
        "    return float(total_loss/total_num), float(total_correct/total_num * 100)"
      ],
      "metadata": {
        "id": "zBsY4v8uC9GJ"
      },
      "execution_count": null,
      "outputs": []
    },
    {
      "cell_type": "markdown",
      "source": [
        "**Question 4** implement the SGD with momentum and experiement with with different batch sizes. What do you notice?"
      ],
      "metadata": {
        "id": "0tjm8UXs7kDS"
      }
    },
    {
      "cell_type": "code",
      "source": [
        "with torch.no_grad(): # in this exersize we will not use autograd you will have calucated gradent\n",
        "\n",
        "  # fixing a device to run the codes on\n",
        "  device = torch.device(\"cuda:0\")\n",
        "\n",
        "  w = torch.zeros(input_dimension,number_of_classes).to(device)\n",
        "  m = torch.zeros(input_dimension,number_of_classes).to(device)\n",
        "\n",
        "  eta = 1e-1\n",
        "  mu = 0.9\n",
        "  num_epochs = 10\n",
        "\n",
        "  for i in range(num_epochs):\n",
        "    total_loss, total_correct, total_num = 0, 0, 0\n",
        "    for batch in train_loader:\n",
        "      #extractign data and labels from batch\n",
        "      X,y = batch[0].to(device).view(batch[0].size()[0],input_dimension), batch[1].to(device)\n",
        "      Y = index_to_one_hot(y, classes=10)\n",
        "      # ----------------------------\n",
        "      # Optimisation -  Your code here\n",
        "\n",
        "      m = mu*m - eta*grad_func(X,Y,w)\n",
        "\n",
        "      w = w + m\n",
        "\n",
        "\n",
        "      # ----------------------------\n",
        "      # track loss and accuracy after every step\n",
        "      loss_train = CE_loss(X, Y, w)\n",
        "      correct, acc = accuracy(X.mm(w), y)\n",
        "      total_correct += correct\n",
        "      total_loss += loss_train*X.size()[0]\n",
        "      total_num += X.size()[0]\n",
        "\n",
        "    # ----------------------------\n",
        "    # After each epoch track metrics\n",
        "    sgd_train_losses.append(float(total_loss/total_num))\n",
        "    sgd_train_acc.append(float(total_correct/total_num * 100))\n",
        "    val_loss, val_acc = test(w, valid_loader)\n",
        "    sgd_val_losses.append(val_loss)\n",
        "    sgd_val_acc.append(val_acc)\n",
        "    print('train loss: {:.2e} | train acc: {:.2f} | eta: {:.2f}'.format(float(total_loss/total_num), float(total_correct/total_num * 100), eta))\n",
        "    print('val loss: {:.2e} | val acc: {:.2f}'.format(val_loss, val_acc))\n",
        "    print('-'*50)\n",
        "    # ----------------------------\n",
        "    # Adjust the learning rate\n",
        "    eta *= 0.9"
      ],
      "metadata": {
        "id": "0Q_eeCRs8jhB",
        "colab": {
          "base_uri": "https://localhost:8080/"
        },
        "outputId": "dc53f4f9-9965-4170-b1c8-3170263475b7"
      },
      "execution_count": null,
      "outputs": [
        {
          "output_type": "stream",
          "name": "stdout",
          "text": [
            "train loss: 3.58e-01 | train acc: 89.71 | eta: 0.10\n",
            "val loss: 3.26e-01 | val acc: 90.46\n",
            "--------------------------------------------------\n",
            "train loss: 3.06e-01 | train acc: 91.47 | eta: 0.09\n",
            "val loss: 3.63e-01 | val acc: 89.06\n",
            "--------------------------------------------------\n",
            "train loss: 2.90e-01 | train acc: 92.02 | eta: 0.08\n",
            "val loss: 3.18e-01 | val acc: 90.93\n",
            "--------------------------------------------------\n",
            "train loss: 2.81e-01 | train acc: 92.22 | eta: 0.07\n",
            "val loss: 3.17e-01 | val acc: 91.53\n",
            "--------------------------------------------------\n",
            "train loss: 2.77e-01 | train acc: 92.43 | eta: 0.07\n",
            "val loss: 3.06e-01 | val acc: 91.24\n",
            "--------------------------------------------------\n",
            "train loss: 2.70e-01 | train acc: 92.58 | eta: 0.06\n",
            "val loss: 3.09e-01 | val acc: 91.36\n",
            "--------------------------------------------------\n",
            "train loss: 2.66e-01 | train acc: 92.67 | eta: 0.05\n",
            "val loss: 3.04e-01 | val acc: 91.27\n",
            "--------------------------------------------------\n",
            "train loss: 2.63e-01 | train acc: 92.74 | eta: 0.05\n",
            "val loss: 2.99e-01 | val acc: 91.53\n",
            "--------------------------------------------------\n",
            "train loss: 2.60e-01 | train acc: 92.88 | eta: 0.04\n",
            "val loss: 2.92e-01 | val acc: 91.80\n",
            "--------------------------------------------------\n",
            "train loss: 2.57e-01 | train acc: 92.95 | eta: 0.04\n",
            "val loss: 2.95e-01 | val acc: 91.67\n",
            "--------------------------------------------------\n"
          ]
        }
      ]
    },
    {
      "cell_type": "code",
      "source": [
        "# plot stuff - reuse this cell for plotting bonus material too.\n",
        "f, axs = plt.subplots(2,2)\n",
        "axs[0,0].plot(np.arange(len(sgd_train_losses)),sgd_train_losses, 'red')\n",
        "axs[0,0].plot(np.arange(len(opt_train_losses)),opt_train_losses, 'blue')\n",
        "axs[0,0].plot(np.arange(len(adam_train_losses)),adam_train_losses, 'black')\n",
        "axs[0,0].set_ylabel('train losses')\n",
        "axs[0,1].plot(np.arange(len(sgd_train_acc)),sgd_train_acc, 'red')\n",
        "axs[0,1].plot(np.arange(len(opt_train_acc)),opt_train_acc, 'blue')\n",
        "axs[0,1].plot(np.arange(len(adam_train_acc)),adam_train_acc, 'black')\n",
        "axs[0,1].set_ylabel('train acc')\n",
        "axs[1,0].plot(np.arange(len(sgd_val_losses)),sgd_val_losses, 'red')\n",
        "axs[1,0].plot(np.arange(len(opt_val_losses)),opt_val_losses, 'blue')\n",
        "axs[1,0].plot(np.arange(len(adam_val_losses)),adam_val_losses, 'black')\n",
        "axs[1,0].set_ylabel('val losses')\n",
        "axs[1,1].plot(np.arange(len(sgd_val_acc)),sgd_val_acc, 'red')\n",
        "axs[1,1].plot(np.arange(len(opt_val_acc)),opt_val_acc, 'blue')\n",
        "axs[1,1].plot(np.arange(len(adam_val_acc)),adam_val_acc, 'black')\n",
        "axs[1,1].set_ylabel('val acc')"
      ],
      "metadata": {
        "id": "tn5Fce4rLnxc",
        "colab": {
          "base_uri": "https://localhost:8080/",
          "height": 447
        },
        "outputId": "e1b244b2-2d1a-4ec4-daf8-a9754b4e4766"
      },
      "execution_count": null,
      "outputs": [
        {
          "output_type": "execute_result",
          "data": {
            "text/plain": [
              "Text(0, 0.5, 'val acc')"
            ]
          },
          "metadata": {},
          "execution_count": 13
        },
        {
          "output_type": "display_data",
          "data": {
            "text/plain": [
              "<Figure size 640x480 with 4 Axes>"
            ],
            "image/png": "[encoded data removed]"
          },
          "metadata": {}
        }
      ]
    },
    {
      "cell_type": "code",
      "source": [
        "# We can visualise the learnt weights (one for each class) as images by reshapeing into 28x28 grids\n",
        "\n",
        "w_cpu = w.cpu().clone()\n",
        "print(w_cpu.size())\n",
        "\n",
        "f, axs = plt.subplots(1,number_of_classes)\n",
        "\n",
        "for k in range(h):\n",
        "  img = w_cpu[:,k].view(28,28)\n",
        "  axs[k].imshow(img)\n",
        "  axs[k].set_title(k)\n",
        "  axs[k].axis(\"off\")"
      ],
      "metadata": {
        "id": "FwVysM8b8jeK",
        "colab": {
          "base_uri": "https://localhost:8080/",
          "height": 118
        },
        "outputId": "6ebfcd1d-f9c6-4382-982e-b698e9873e72"
      },
      "execution_count": null,
      "outputs": [
        {
          "output_type": "stream",
          "name": "stdout",
          "text": [
            "torch.Size([784, 10])\n"
          ]
        },
        {
          "output_type": "display_data",
          "data": {
            "text/plain": [
              "<Figure size 640x480 with 10 Axes>"
            ],
            "image/png": "[encoded data removed]"
          },
          "metadata": {}
        }
      ]
    },
    {
      "cell_type": "markdown",
      "source": [
        "**###Optional### BONUS MATERIAL** -  Other optimisers and Adam"
      ],
      "metadata": {
        "id": "rAqPHmFgAG_M"
      }
    },
    {
      "cell_type": "markdown",
      "source": [
        "**###Optinional### Question 5** implement your some of the optimisers form ex1 and see how they perfrom in this setting? What differences do you notice?"
      ],
      "metadata": {
        "id": "eRS5dzHL_xA7"
      }
    },
    {
      "cell_type": "code",
      "source": [
        "def generate_p(n):\n",
        "  p_unnorm = np.random.normal(0,1,n)\n",
        "  p = p_unnorm / np.linalg.norm(p_unnorm)\n",
        "\n",
        "  return  torch.from_numpy(p)\n",
        "\n",
        "\n",
        "with torch.no_grad(): # in this exersize we will not use autograd you will have calucated gradent\n",
        "\n",
        "  # fixing a device to run the codes on\n",
        "  device = torch.device(\"cuda:0\")\n",
        "\n",
        "  w = torch.zeros(input_dimension,number_of_classes).to(device)\n",
        "  m = torch.zeros(input_dimension,number_of_classes).to(device)\n",
        "\n",
        "  eta = 1e-1\n",
        "  num_epochs = 10\n",
        "\n",
        "  for i in range(num_epochs):\n",
        "    total_loss, total_correct, total_num = 0, 0, 0\n",
        "    for batch in train_loader:\n",
        "      #extractign data and labels from batch\n",
        "      X,y = batch[0].to(device).view(batch[0].size()[0],input_dimension), batch[1].to(device)\n",
        "      Y = index_to_one_hot(y, classes=10)\n",
        "      # ----------------------------\n",
        "      # Optimisation -  Your code here\n",
        "      # Select p first\n",
        "      print(X.shape)\n",
        "      print(w.shape)\n",
        "      p = generate_p(w.shape).to(device)\n",
        "\n",
        "      # Workout which of the 3 points gives the min loss\n",
        "      points = [(w - eta *p), w, (w + eta *p)]\n",
        "      points_loss = [CE_loss(X,y, point.float()) for point in points]\n",
        "      min_points_loss = np.min(points_loss)\n",
        "      theta = points[points_loss.index(min_points_loss)]\n",
        "      # ----------------------------\n",
        "      # track loss and accuracy after every step\n",
        "      loss_train = CE_loss(X, Y, w)\n",
        "      correct, acc = accuracy(X.mm(w), y)\n",
        "      total_correct += correct\n",
        "      total_loss += loss_train*X.size()[0]\n",
        "      total_num += X.size()[0]\n",
        "\n",
        "    # ----------------------------\n",
        "    # After each epoch track metrics\n",
        "    opt_train_losses.append(float(total_loss/total_num))\n",
        "    opt_train_acc.append(float(total_correct/total_num * 100))\n",
        "    val_loss, val_acc = test(w, valid_loader)\n",
        "    opt_val_losses.append(val_loss)\n",
        "    opt_val_acc.append(val_acc)\n",
        "    print('train loss: {:.2e} | train acc: {:.2f} | eta: {:.2f}'.format(float(total_loss/total_num), float(total_correct/total_num * 100), eta))\n",
        "    print('val loss: {:.2e} | val acc: {:.2f}'.format(val_loss, val_acc))\n",
        "    print('-'*50)\n",
        "    # ----------------------------\n",
        "    # Adjust the learning rate\n",
        "    eta *= 0.9"
      ],
      "metadata": {
        "id": "uzC1Qjxa_nJ3",
        "colab": {
          "base_uri": "https://localhost:8080/",
          "height": 497
        },
        "outputId": "bf22b2ad-16dd-4cf7-f0dd-3275ad28951e"
      },
      "execution_count": null,
      "outputs": [
        {
          "output_type": "stream",
          "name": "stdout",
          "text": [
            "torch.Size([64, 784])\n",
            "torch.Size([784, 10])\n"
          ]
        },
        {
          "output_type": "error",
          "ename": "RuntimeError",
          "evalue": "ignored",
          "traceback": [
            "\u001b[0;31m---------------------------------------------------------------------------\u001b[0m",
            "\u001b[0;31mRuntimeError\u001b[0m                              Traceback (most recent call last)",
            "Cell \u001b[0;32mIn [35], line 34\u001b[0m\n\u001b[1;32m     32\u001b[0m \u001b[38;5;66;03m# Workout which of the 3 points gives the min loss\u001b[39;00m\n\u001b[1;32m     33\u001b[0m points \u001b[38;5;241m=\u001b[39m [(w \u001b[38;5;241m-\u001b[39m eta \u001b[38;5;241m*\u001b[39mp), w, (w \u001b[38;5;241m+\u001b[39m eta \u001b[38;5;241m*\u001b[39mp)]\n\u001b[0;32m---> 34\u001b[0m points_loss \u001b[38;5;241m=\u001b[39m [CE_loss(X,y, point\u001b[38;5;241m.\u001b[39mfloat()) \u001b[38;5;28;01mfor\u001b[39;00m point \u001b[38;5;129;01min\u001b[39;00m points]\n\u001b[1;32m     35\u001b[0m min_points_loss \u001b[38;5;241m=\u001b[39m np\u001b[38;5;241m.\u001b[39mmin(points_loss)\n\u001b[1;32m     36\u001b[0m theta \u001b[38;5;241m=\u001b[39m points[points_loss\u001b[38;5;241m.\u001b[39mindex(min_points_loss)]\n",
            "Cell \u001b[0;32mIn [35], line 34\u001b[0m, in \u001b[0;36m<listcomp>\u001b[0;34m(.0)\u001b[0m\n\u001b[1;32m     32\u001b[0m \u001b[38;5;66;03m# Workout which of the 3 points gives the min loss\u001b[39;00m\n\u001b[1;32m     33\u001b[0m points \u001b[38;5;241m=\u001b[39m [(w \u001b[38;5;241m-\u001b[39m eta \u001b[38;5;241m*\u001b[39mp), w, (w \u001b[38;5;241m+\u001b[39m eta \u001b[38;5;241m*\u001b[39mp)]\n\u001b[0;32m---> 34\u001b[0m points_loss \u001b[38;5;241m=\u001b[39m [\u001b[43mCE_loss\u001b[49m\u001b[43m(\u001b[49m\u001b[43mX\u001b[49m\u001b[43m,\u001b[49m\u001b[43my\u001b[49m\u001b[43m,\u001b[49m\u001b[43m \u001b[49m\u001b[43mpoint\u001b[49m\u001b[38;5;241;43m.\u001b[39;49m\u001b[43mfloat\u001b[49m\u001b[43m(\u001b[49m\u001b[43m)\u001b[49m\u001b[43m)\u001b[49m \u001b[38;5;28;01mfor\u001b[39;00m point \u001b[38;5;129;01min\u001b[39;00m points]\n\u001b[1;32m     35\u001b[0m min_points_loss \u001b[38;5;241m=\u001b[39m np\u001b[38;5;241m.\u001b[39mmin(points_loss)\n\u001b[1;32m     36\u001b[0m theta \u001b[38;5;241m=\u001b[39m points[points_loss\u001b[38;5;241m.\u001b[39mindex(min_points_loss)]\n",
            "Cell \u001b[0;32mIn [32], line 12\u001b[0m, in \u001b[0;36mCE_loss\u001b[0;34m(X, ystar, w)\u001b[0m\n\u001b[1;32m      8\u001b[0m N \u001b[38;5;241m=\u001b[39m X\u001b[38;5;241m.\u001b[39mshape[\u001b[38;5;241m0\u001b[39m]\n\u001b[1;32m     10\u001b[0m m \u001b[38;5;241m=\u001b[39m X \u001b[38;5;241m@\u001b[39m w\u001b[38;5;241m.\u001b[39mfloat()  \u001b[38;5;66;03m# Convert w to float data type\u001b[39;00m\n\u001b[0;32m---> 12\u001b[0m loss \u001b[38;5;241m=\u001b[39m \u001b[38;5;241m-\u001b[39mtorch\u001b[38;5;241m.\u001b[39mmean(\u001b[43mystar\u001b[49m\u001b[43m \u001b[49m\u001b[38;5;241;43m*\u001b[39;49m\u001b[43m \u001b[49m\u001b[43mtorch\u001b[49m\u001b[38;5;241;43m.\u001b[39;49m\u001b[43mlog\u001b[49m\u001b[43m(\u001b[49m\u001b[43mF\u001b[49m\u001b[38;5;241;43m.\u001b[39;49m\u001b[43msoftmax\u001b[49m\u001b[43m(\u001b[49m\u001b[43mm\u001b[49m\u001b[43m,\u001b[49m\u001b[43m \u001b[49m\u001b[43mdim\u001b[49m\u001b[38;5;241;43m=\u001b[39;49m\u001b[38;5;241;43m1\u001b[39;49m\u001b[43m)\u001b[49m\u001b[43m)\u001b[49m) \u001b[38;5;241m*\u001b[39m \u001b[38;5;241m10\u001b[39m\n\u001b[1;32m     14\u001b[0m \u001b[38;5;28;01mreturn\u001b[39;00m \u001b[38;5;28mfloat\u001b[39m(loss)\n",
            "\u001b[0;31mRuntimeError\u001b[0m: The size of tensor a (64) must match the size of tensor b (10) at non-singleton dimension 1"
          ]
        }
      ]
    },
    {
      "cell_type": "markdown",
      "source": [
        "**Adam** The Adam optimiser is an adeptive gradient method that uses exponial moving averages of previous gradients to estimates a good step size for each parameter. Thus it avoids the need for a learning rate schedule.\n",
        "\n",
        "remember $\\mathbf{m}$, $\\mathbf{v}$ and $\\mathbf{w}$ are vectors.\n",
        "\n",
        "\\begin{align*}\n",
        "  \\hat{\\mathbf{m}_k} &= \\frac{\\mathbf{m}_k}{1-\\beta_1^t},\\hspace{0.1cm} \\mathbf{m}_k \\leftarrow \\beta_1 \\mathbf{m}_{k-1} + (1-\\beta_1)\\nabla \\ell_{z_t}(\\mathbf{w}_t) \\\\\n",
        "  \\hat{\\mathbf{v}}_k &= \\frac{\\mathbf{v}_k}{1-\\beta_2^t},\\hspace{0.1cm} \\mathbf{v}_k \\leftarrow \\beta_2 \\mathbf{v}_{k-1} + (1-\\beta_2)\\nabla \\ell_{z_t}(\\mathbf{w}_t)^2 \\\\\n",
        "  \\mathbf{w}_{k+1} &\\leftarrow \\mathbf{w}_{k} - \\frac{\\eta}{\\sqrt{\\hat{\\mathbf{v}}_k}+\\epsilon} \\hat{\\mathbf{m}}_k \\\\\n",
        "\\end{align*}\n",
        "\n",
        "\n"
      ],
      "metadata": {
        "id": "bjLQporlZdAd"
      }
    },
    {
      "cell_type": "markdown",
      "source": [
        "**###Optinional### Question 6** implement the ADAM optimiser with $\\beta_1 = 0.9$,$\\beta_2 = 0.999$, $\\eta=0.001$ and run MNIST data set."
      ],
      "metadata": {
        "id": "USJc-v6577eB"
      }
    },
    {
      "cell_type": "code",
      "source": [
        "with torch.no_grad(): # in this exersize we will not use autograd you will have calucated gradent\n",
        "\n",
        "  # fixing a device to run the codes on\n",
        "  device = torch.device(\"cuda:0\")\n",
        "\n",
        "  w = torch.zeros(input_dimension,number_of_classes).to(device)\n",
        "  m = torch.zeros(input_dimension,number_of_classes).to(device)\n",
        "  v = torch.zeros(input_dimension, number_of_classes).to(device)\n",
        "\n",
        "  eta = 1e-3\n",
        "  beta_1 = 0.9\n",
        "  beta_2 = 0.999\n",
        "  num_epochs = 10\n",
        "  eps = 1e-8\n",
        "\n",
        "  for i in range(num_epochs):\n",
        "    total_loss, total_correct, total_num = 0, 0, 0\n",
        "    for batch in train_loader:\n",
        "      #extractign data and labels from batch\n",
        "      X,y = batch[0].to(device).view(batch[0].size()[0],input_dimension), batch[1].to(device)\n",
        "      Y = index_to_one_hot(y, classes=10)\n",
        "      # ----------------------------\n",
        "      # Optimisation -  Your code here\n",
        "\n",
        "      m = beta_1 * m + (1 - beta_1) * grad_func(X, Y, w)\n",
        "      v = beta_2 * v + (1 - beta_2) * grad_func(X, Y, w)**2\n",
        "      m_hat = m / (1 - beta_1**(i+1))\n",
        "      v_hat = v / (1 - beta_2**(i+1))\n",
        "      w -= eta * m_hat / (torch.sqrt(v_hat) + eps)\n",
        "\n",
        "\n",
        "      # ----------------------------\n",
        "      # track loss and accuracy after every step\n",
        "      loss_train = CE_loss(X, Y, w)\n",
        "      correct, acc = accuracy(X.mm(w), y)\n",
        "      total_correct += correct\n",
        "      total_loss += loss_train*X.size()[0]\n",
        "      total_num += X.size()[0]\n",
        "\n",
        "    # ----------------------------\n",
        "    # After each epoch track metrics\n",
        "    adam_train_losses.append(float(total_loss/total_num))\n",
        "    adam_train_acc.append(float(total_correct/total_num * 100))\n",
        "    val_loss, val_acc = test(w, valid_loader)\n",
        "    adam_val_losses.append(val_loss)\n",
        "    adam_val_acc.append(val_acc)\n",
        "    print('train loss: {:.2e} | train acc: {:.2f} | eta: {:.2f}'.format(float(total_loss/total_num), float(total_correct/total_num * 100), eta))\n",
        "    print('val loss: {:.2e} | val acc: {:.2f}'.format(val_loss, val_acc))\n",
        "    print('-'*50)"
      ],
      "metadata": {
        "id": "_sPdFp4x-ui9",
        "colab": {
          "base_uri": "https://localhost:8080/"
        },
        "outputId": "87b7b0e6-b0f0-46ed-ecff-798801405f71"
      },
      "execution_count": null,
      "outputs": [
        {
          "output_type": "stream",
          "name": "stdout",
          "text": [
            "train loss: 5.40e-01 | train acc: 86.96 | eta: 0.00\n",
            "val loss: 3.96e-01 | val acc: 89.42\n",
            "--------------------------------------------------\n",
            "train loss: 3.73e-01 | train acc: 90.05 | eta: 0.00\n",
            "val loss: 3.59e-01 | val acc: 90.14\n",
            "--------------------------------------------------\n",
            "train loss: 3.48e-01 | train acc: 90.61 | eta: 0.00\n",
            "val loss: 3.42e-01 | val acc: 90.47\n",
            "--------------------------------------------------\n",
            "train loss: 3.33e-01 | train acc: 90.92 | eta: 0.00\n",
            "val loss: 3.32e-01 | val acc: 90.72\n",
            "--------------------------------------------------\n",
            "train loss: 3.24e-01 | train acc: 91.14 | eta: 0.00\n",
            "val loss: 3.24e-01 | val acc: 90.88\n",
            "--------------------------------------------------\n",
            "train loss: 3.16e-01 | train acc: 91.34 | eta: 0.00\n",
            "val loss: 3.18e-01 | val acc: 91.00\n",
            "--------------------------------------------------\n",
            "train loss: 3.11e-01 | train acc: 91.47 | eta: 0.00\n",
            "val loss: 3.13e-01 | val acc: 91.10\n",
            "--------------------------------------------------\n",
            "train loss: 3.06e-01 | train acc: 91.59 | eta: 0.00\n",
            "val loss: 3.10e-01 | val acc: 91.15\n",
            "--------------------------------------------------\n",
            "train loss: 3.02e-01 | train acc: 91.64 | eta: 0.00\n",
            "val loss: 3.06e-01 | val acc: 91.31\n",
            "--------------------------------------------------\n",
            "train loss: 2.99e-01 | train acc: 91.72 | eta: 0.00\n",
            "val loss: 3.04e-01 | val acc: 91.47\n",
            "--------------------------------------------------\n"
          ]
        }
      ]
    },
    {
      "cell_type": "markdown",
      "source": [
        "# Nadam (Adam with Nestarov momentum)\n",
        "\n",
        "By changing the first moving average to a Nesterov accelerated momentum. One computation trick can be applied here: instead of updating the parameters to make momentum step and changing back again, we can achieve the same effect by applying the momentum step of time step t + 1 only once, during the update of the previous time step t instead of t + 1."
      ],
      "metadata": {
        "id": "e-TqUEhMlpRw"
      }
    },
    {
      "cell_type": "code",
      "source": [
        "with torch.no_grad(): # in this exersize we will not use autograd you will have calucated gradent\n",
        "\n",
        "  # fixing a device to run the codes on\n",
        "  device = torch.device(\"cuda:0\")\n",
        "\n",
        "  w = torch.zeros(input_dimension,number_of_classes).to(device)\n",
        "  m = torch.zeros(input_dimension,number_of_classes).to(device)\n",
        "  v = torch.zeros(input_dimension, number_of_classes).to(device)\n",
        "\n",
        "  eta = 1e-3\n",
        "  beta_1 = 0.9\n",
        "  beta_2 = 0.999\n",
        "  num_epochs = 10\n",
        "  eps = 1e-8\n",
        "\n",
        "  for i in range(num_epochs):\n",
        "    total_loss, total_correct, total_num = 0, 0, 0\n",
        "    for batch in train_loader:\n",
        "      #extractign data and labels from batch\n",
        "      X,y = batch[0].to(device).view(batch[0].size()[0],input_dimension), batch[1].to(device)\n",
        "      Y = index_to_one_hot(y, classes=10)\n",
        "      # ----------------------------\n",
        "      # Optimisation -  Your code here\n",
        "\n",
        "      g = grad_func(X, Y, w)\n",
        "      m = beta_1 * m + (1 - beta_1) * g\n",
        "      v = beta_2 * v + (1 - beta_2) * g**2\n",
        "\n",
        "\n",
        "      m_hat = m / (1 - beta_1**(i+1)) + (1 - beta_1) * g / (1 - beta_1**(i+1))\n",
        "\n",
        "\n",
        "      v_hat = v / (1 - beta_2**(i+1))\n",
        "      w -= eta * m_hat / (torch.sqrt(v_hat) + eps)\n",
        "\n",
        "\n",
        "      # ----------------------------\n",
        "      # track loss and accuracy after every step\n",
        "      loss_train = CE_loss(X, Y, w)\n",
        "      correct, acc = accuracy(X.mm(w), y)\n",
        "      total_correct += correct\n",
        "      total_loss += loss_train*X.size()[0]\n",
        "      total_num += X.size()[0]\n",
        "\n",
        "    # ----------------------------\n",
        "    # After each epoch track metrics\n",
        "    adam_train_losses.append(float(total_loss/total_num))\n",
        "    adam_train_acc.append(float(total_correct/total_num * 100))\n",
        "    val_loss, val_acc = test(w, valid_loader)\n",
        "    adam_val_losses.append(val_loss)\n",
        "    adam_val_acc.append(val_acc)\n",
        "    print('train loss: {:.2e} | train acc: {:.2f} | eta: {:.2f}'.format(float(total_loss/total_num), float(total_correct/total_num * 100), eta))\n",
        "    print('val loss: {:.2e} | val acc: {:.2f}'.format(val_loss, val_acc))\n",
        "    print('-'*50)"
      ],
      "metadata": {
        "colab": {
          "base_uri": "https://localhost:8080/"
        },
        "id": "m-gySiBcm90K",
        "outputId": "50d45928-c905-4ab2-8cf9-bb9fc89a9ecc"
      },
      "execution_count": null,
      "outputs": [
        {
          "output_type": "stream",
          "name": "stdout",
          "text": [
            "train loss: 5.14e-01 | train acc: 87.67 | eta: 0.00\n",
            "val loss: 3.86e-01 | val acc: 89.62\n",
            "--------------------------------------------------\n",
            "train loss: 3.63e-01 | train acc: 90.32 | eta: 0.00\n",
            "val loss: 3.51e-01 | val acc: 90.29\n",
            "--------------------------------------------------\n",
            "train loss: 3.39e-01 | train acc: 90.84 | eta: 0.00\n",
            "val loss: 3.36e-01 | val acc: 90.51\n",
            "--------------------------------------------------\n",
            "train loss: 3.26e-01 | train acc: 91.13 | eta: 0.00\n",
            "val loss: 3.26e-01 | val acc: 90.93\n",
            "--------------------------------------------------\n",
            "train loss: 3.17e-01 | train acc: 91.34 | eta: 0.00\n",
            "val loss: 3.18e-01 | val acc: 91.06\n",
            "--------------------------------------------------\n",
            "train loss: 3.10e-01 | train acc: 91.51 | eta: 0.00\n",
            "val loss: 3.14e-01 | val acc: 91.17\n",
            "--------------------------------------------------\n",
            "train loss: 3.05e-01 | train acc: 91.61 | eta: 0.00\n",
            "val loss: 3.09e-01 | val acc: 91.21\n",
            "--------------------------------------------------\n",
            "train loss: 3.01e-01 | train acc: 91.68 | eta: 0.00\n",
            "val loss: 3.05e-01 | val acc: 91.33\n",
            "--------------------------------------------------\n",
            "train loss: 2.97e-01 | train acc: 91.73 | eta: 0.00\n",
            "val loss: 3.03e-01 | val acc: 91.36\n",
            "--------------------------------------------------\n",
            "train loss: 2.94e-01 | train acc: 91.84 | eta: 0.00\n",
            "val loss: 3.00e-01 | val acc: 91.52\n",
            "--------------------------------------------------\n"
          ]
        }
      ]
    },
    {
      "cell_type": "code",
      "source": [],
      "metadata": {
        "id": "8SMsHGE9oEwM"
      },
      "execution_count": null,
      "outputs": []
    }
  ]
}