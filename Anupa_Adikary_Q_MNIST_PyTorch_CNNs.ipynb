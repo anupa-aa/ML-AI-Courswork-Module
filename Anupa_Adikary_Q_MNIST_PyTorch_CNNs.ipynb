{
  "nbformat": 4,
  "nbformat_minor": 0,
  "metadata": {
    "colab": {
      "provenance": [],
      "include_colab_link": true
    },
    "kernelspec": {
      "name": "python3",
      "display_name": "Python 3"
    },
    "language_info": {
      "name": "python"
    },
    "accelerator": "GPU"
  },
  "cells": [
    {
      "cell_type": "markdown",
      "metadata": {
        "id": "view-in-github",
        "colab_type": "text"
      },
      "source": [
        "<a href=\"https://colab.research.google.com/github/anupa-aa/ML-AI-Courswork-Module/blob/master/Anupa_Adikary_Q_MNIST_PyTorch_CNNs.ipynb\" target=\"_parent\"><img src=\"https://colab.research.google.com/assets/colab-badge.svg\" alt=\"Open In Colab\"/></a>"
      ]
    },
    {
      "cell_type": "markdown",
      "source": [
        "Expectations: Please provide solutions to the questions in the cells at the end of the notebook."
      ],
      "metadata": {
        "id": "_-O8HVTpkbZm"
      }
    },
    {
      "cell_type": "code",
      "execution_count": null,
      "metadata": {
        "id": "Vqg8SEXq55vV"
      },
      "outputs": [],
      "source": [
        "import torch\n",
        "import torch.nn as nn\n",
        "import torch.nn.functional as F\n",
        "import torch.optim as optim\n",
        "import numpy as np\n",
        "import matplotlib.pyplot as plt\n",
        "from torchvision import models,transforms\n",
        "from torchvision.utils import make_grid\n",
        "from torchvision.datasets import MNIST\n",
        "from torch.utils.data.sampler import SubsetRandomSampler\n",
        "from torch.utils.tensorboard import SummaryWriter\n",
        "from torchsummary import summary"
      ]
    },
    {
      "cell_type": "code",
      "source": [
        "# MNIST\n",
        "def mnist(batch_sz, valid_size=0.2, shuffle=True, random_seed=2000):\n",
        "    num_classes = 10\n",
        "    transform_train = transforms.Compose([\n",
        "                        transforms.ToTensor(),\n",
        "                    ])\n",
        "\n",
        "    transform_valid = transforms.Compose([\n",
        "                        transforms.ToTensor(),\n",
        "                    ])\n",
        "\n",
        "    transform_test = transforms.Compose([\n",
        "                        transforms.ToTensor(),\n",
        "                    ])\n",
        "\n",
        "\n",
        "    # Training dataset\n",
        "    train_data = MNIST(root='./datasets', train=True, download=True, transform=transform_train)\n",
        "    valid_data = MNIST(root='./datasets', train=True, download=True, transform=transform_valid)\n",
        "    num_train = len(train_data)\n",
        "    indices = list(range(num_train))\n",
        "    split = int(np.floor(valid_size * num_train))\n",
        "    if shuffle == True:\n",
        "        np.random.seed(random_seed)\n",
        "        np.random.shuffle(indices)\n",
        "    train_idx, valid_idx = indices[split:], indices[:split]\n",
        "\n",
        "    train_sampler = SubsetRandomSampler(train_idx)\n",
        "    valid_sampler = SubsetRandomSampler(valid_idx)\n",
        "    train_loader = torch.utils.data.DataLoader(train_data, batch_size=batch_sz, sampler=train_sampler,pin_memory=True)\n",
        "    valid_loader = torch.utils.data.DataLoader(valid_data, batch_size=batch_sz, sampler=valid_sampler,pin_memory=True)\n",
        "\n",
        "    # Test dataset\n",
        "    test_data = MNIST(root='./datasets', train=False, download=True, transform=transform_test)\n",
        "    test_loader = torch.utils.data.DataLoader(test_data,\n",
        "                                              batch_size=batch_sz, shuffle=False, pin_memory=True)\n",
        "\n",
        "    return train_loader, valid_loader, test_loader\n",
        "\n"
      ],
      "metadata": {
        "id": "BDiyOVBF6Ess"
      },
      "execution_count": null,
      "outputs": []
    },
    {
      "cell_type": "code",
      "source": [
        "# Q1: create a dataloader and get a batch"
      ],
      "metadata": {
        "id": "ShNY2X0kXffS"
      },
      "execution_count": null,
      "outputs": []
    },
    {
      "cell_type": "code",
      "source": [
        "batch_sz=64 # this is batch size i.e. the number of rows in a batch of data\n",
        "train_loader, valid_loader, test_loader=mnist(batch_sz)"
      ],
      "metadata": {
        "id": "5AaDsz2E6HsU",
        "colab": {
          "base_uri": "https://localhost:8080/"
        },
        "outputId": "cbfd0e98-8095-4e26-fffc-20fb3ab42a32"
      },
      "execution_count": null,
      "outputs": [
        {
          "output_type": "stream",
          "name": "stdout",
          "text": [
            "Downloading http://yann.lecun.com/exdb/mnist/train-images-idx3-ubyte.gz\n",
            "Downloading http://yann.lecun.com/exdb/mnist/train-images-idx3-ubyte.gz to ./datasets/MNIST/raw/train-images-idx3-ubyte.gz\n"
          ]
        },
        {
          "output_type": "stream",
          "name": "stderr",
          "text": [
            "100%|██████████| 9912422/9912422 [00:00<00:00, 112491135.46it/s]\n"
          ]
        },
        {
          "output_type": "stream",
          "name": "stdout",
          "text": [
            "Extracting ./datasets/MNIST/raw/train-images-idx3-ubyte.gz to ./datasets/MNIST/raw\n",
            "\n",
            "Downloading http://yann.lecun.com/exdb/mnist/train-labels-idx1-ubyte.gz\n",
            "Downloading http://yann.lecun.com/exdb/mnist/train-labels-idx1-ubyte.gz to ./datasets/MNIST/raw/train-labels-idx1-ubyte.gz\n"
          ]
        },
        {
          "output_type": "stream",
          "name": "stderr",
          "text": [
            "100%|██████████| 28881/28881 [00:00<00:00, 37854904.32it/s]\n"
          ]
        },
        {
          "output_type": "stream",
          "name": "stdout",
          "text": [
            "Extracting ./datasets/MNIST/raw/train-labels-idx1-ubyte.gz to ./datasets/MNIST/raw\n",
            "\n",
            "Downloading http://yann.lecun.com/exdb/mnist/t10k-images-idx3-ubyte.gz\n",
            "Downloading http://yann.lecun.com/exdb/mnist/t10k-images-idx3-ubyte.gz to ./datasets/MNIST/raw/t10k-images-idx3-ubyte.gz\n"
          ]
        },
        {
          "output_type": "stream",
          "name": "stderr",
          "text": [
            "100%|██████████| 1648877/1648877 [00:00<00:00, 27198578.69it/s]\n"
          ]
        },
        {
          "output_type": "stream",
          "name": "stdout",
          "text": [
            "Extracting ./datasets/MNIST/raw/t10k-images-idx3-ubyte.gz to ./datasets/MNIST/raw\n",
            "\n",
            "Downloading http://yann.lecun.com/exdb/mnist/t10k-labels-idx1-ubyte.gz\n",
            "Downloading http://yann.lecun.com/exdb/mnist/t10k-labels-idx1-ubyte.gz to ./datasets/MNIST/raw/t10k-labels-idx1-ubyte.gz\n"
          ]
        },
        {
          "output_type": "stream",
          "name": "stderr",
          "text": [
            "100%|██████████| 4542/4542 [00:00<00:00, 21190799.52it/s]\n"
          ]
        },
        {
          "output_type": "stream",
          "name": "stdout",
          "text": [
            "Extracting ./datasets/MNIST/raw/t10k-labels-idx1-ubyte.gz to ./datasets/MNIST/raw\n",
            "\n"
          ]
        }
      ]
    },
    {
      "cell_type": "code",
      "source": [
        "batch = next(iter(train_loader))"
      ],
      "metadata": {
        "id": "LBjoQZbpAEI0"
      },
      "execution_count": null,
      "outputs": []
    },
    {
      "cell_type": "code",
      "source": [
        "batch[0].shape"
      ],
      "metadata": {
        "id": "vHVdxPoSAHr2",
        "colab": {
          "base_uri": "https://localhost:8080/"
        },
        "outputId": "8f166db1-d922-47f8-ba78-0ae6031d682d"
      },
      "execution_count": null,
      "outputs": [
        {
          "output_type": "execute_result",
          "data": {
            "text/plain": [
              "torch.Size([64, 1, 28, 28])"
            ]
          },
          "metadata": {},
          "execution_count": 5
        }
      ]
    },
    {
      "cell_type": "code",
      "source": [
        "#Q2: Define a CNN with 2 conv layer and 2 linear layers for mnist digit classification\n",
        "\n",
        "# 2 conv layers 8, 16, ---> NN--> 100, 10\n",
        "class My_CNN(nn.Module):\n",
        "  def __init__(self):\n",
        "    super().__init__()\n",
        "    self.conv1 = nn.Conv2d(1, 8, 3, 1)\n",
        "    self.conv2 = nn.Conv2d(8,16,3,1)#Todo in_channels=8, out_channels=16, filter_size=3, stride=1\n",
        "\n",
        "    self.linear1 = nn.Linear(25*16, 100) #Todo linear 25*16 -> 100\n",
        "    self.linear2 = nn.Linear(100,10) #Todo linear 100 ->10\n",
        "\n",
        "  def forward(self, x):\n",
        "    # x-->(bs, 1, 28,28)\n",
        "    x = self.conv1(x)\n",
        "    x = torch.relu(x)\n",
        "    # x -->(bs,8, 26,26)\n",
        "    x = F.max_pool2d(x, (2,2))\n",
        "    # x -->(bs,8, 13,13)\n",
        "    x = self.conv2(x)#Todo layer\n",
        "    x = F.relu(x)#Todo activation\n",
        "    # x -->(bs,16, 11,11)\n",
        "    x = F.max_pool2d(x, (2,2)) #Todo pooling\n",
        "    # x -->(bs,16, 5,5)\n",
        "    x = x.view(x.size(0), -1) #Todo # reshape the dimension\n",
        "    x = self.linear1(x)#Todo linear 25*16 -> 100\n",
        "    x = F.relu(x) #Todo activation\n",
        "    x = self.linear2(x)#Todo linear 100 ->10\n",
        "\n",
        "    return x\n",
        "\n",
        "\n",
        "\n",
        "\n",
        "\n",
        "\n",
        "\n"
      ],
      "metadata": {
        "id": "TxIJJ4sr8j2b"
      },
      "execution_count": null,
      "outputs": []
    },
    {
      "cell_type": "code",
      "source": [
        "#Q3: Train CNN for 10 epochs\n",
        "\n",
        "# fixing a device to run the codes on\n",
        "device = torch.device(\"cuda:0\")\n",
        "# creating a instance of My_CNN and moiving it to the device\n",
        "net = My_CNN().to(device)#Todo Creeat network and move it to device\n",
        "lr = 0.1\n",
        "#creating an sgd optimizer for my network\n",
        "opt = optim.SGD(net.parameters(), lr= lr)\n",
        "num_tikrar = 10\n",
        "ls =[]\n",
        "for i in range(num_tikrar):\n",
        "  total_loss = 0\n",
        "  for batch in train_loader:\n",
        "    #extractign data and labels from batch\n",
        "    X,y = batch[0].to(device), batch[1].to(device)\n",
        "    #doing the forward pass through the networks\n",
        "    yhat = net(X)\n",
        "    #calculating the loss\n",
        "    loss = F.cross_entropy(yhat, y)\n",
        "    #empyting the buffers to the store the gradients\n",
        "    opt.zero_grad()\n",
        "    #backward pass to calculate the gradietns\n",
        "    loss.backward()\n",
        "    #optimizing: taking a step in the negative gradient direction\n",
        "    #Todo\n",
        "    opt.step()\n",
        "    total_loss+= loss.item()\n",
        "  ls.append(total_loss)\n",
        "\n",
        "plt.plot(ls)\n",
        "\n"
      ],
      "metadata": {
        "colab": {
          "base_uri": "https://localhost:8080/",
          "height": 447
        },
        "id": "0Q_eeCRs8jhB",
        "outputId": "0de5cfb0-0445-43c6-f4e3-d74dfc8433bf"
      },
      "execution_count": null,
      "outputs": [
        {
          "output_type": "execute_result",
          "data": {
            "text/plain": [
              "[<matplotlib.lines.Line2D at 0x7f374ed21060>]"
            ]
          },
          "metadata": {},
          "execution_count": 12
        },
        {
          "output_type": "display_data",
          "data": {
            "text/plain": [
              "<Figure size 640x480 with 1 Axes>"
            ],
            "image/png": "[encoded data removed]"
          },
          "metadata": {}
        }
      ]
    },
    {
      "cell_type": "code",
      "source": [
        "layer1 = net.cpu().conv1.weight.detach()\n",
        "layer2 = net.cpu().conv2.weight.detach()"
      ],
      "metadata": {
        "id": "FwVysM8b8jeK"
      },
      "execution_count": null,
      "outputs": []
    },
    {
      "cell_type": "code",
      "source": [
        "k=0\n",
        "for i in range(layer1.shape[0]):\n",
        "  for j in range(layer1.shape[1]):\n",
        "    k+=1\n",
        "    plt.subplot(layer1.shape[0],layer1.shape[1], k)\n",
        "    plt.imshow(layer1[i,j,:,:])\n"
      ],
      "metadata": {
        "colab": {
          "base_uri": "https://localhost:8080/",
          "height": 265
        },
        "id": "o8bwVrjm8jb0",
        "outputId": "c940802e-b7c6-4a1f-8d5c-994bf31beeba"
      },
      "execution_count": null,
      "outputs": [
        {
          "output_type": "display_data",
          "data": {
            "text/plain": [
              "<Figure size 432x288 with 8 Axes>"
            ],
            "image/png": "[encoded data removed]"
          },
          "metadata": {
            "needs_background": "light"
          }
        }
      ]
    },
    {
      "cell_type": "code",
      "source": [
        "k=0\n",
        "for i in range(layer2.shape[0]):\n",
        "  for j in range(layer2.shape[1]):\n",
        "    k+=1\n",
        "    plt.subplot(layer2.shape[0],layer2.shape[1], k)\n",
        "    plt.imshow(layer2[i,j,:,:])\n",
        "    plt.axis(\"off\")\n"
      ],
      "metadata": {
        "colab": {
          "base_uri": "https://localhost:8080/",
          "height": 248
        },
        "id": "T4qnpLArUURm",
        "outputId": "f48eb935-a089-4eee-80db-27cac3cf1fb0"
      },
      "execution_count": null,
      "outputs": [
        {
          "output_type": "display_data",
          "data": {
            "text/plain": [
              "<Figure size 432x288 with 128 Axes>"
            ],
            "image/png": "[encoded data removed]"
          },
          "metadata": {
            "needs_background": "light"
          }
        }
      ]
    },
    {
      "cell_type": "code",
      "source": [],
      "metadata": {
        "id": "xdQbo2bm8jZU"
      },
      "execution_count": null,
      "outputs": []
    }
  ]
}